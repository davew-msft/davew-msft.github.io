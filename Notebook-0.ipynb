{
    "metadata": {
        "kernelspec": {
            "name": "SQL",
            "display_name": "SQL",
            "language": "sql"
        },
        "language_info": {
            "name": "sql",
            "version": ""
        }
    },
    "nbformat_minor": 2,
    "nbformat": 4,
    "cells": [
        {
            "cell_type": "markdown",
            "source": [
                "## Analyze Covid Data in a Data Lake using Synapse Serverless  \n",
                "\n",
                "\n",
                "Let's first take a look at the raw today provided to us"
            ],
            "metadata": {
                "azdata_cell_guid": "a1497688-2aff-4ac4-8d5d-f5f2472f7284"
            },
            "attachments": {}
        },
        {
            "cell_type": "code",
            "source": [
                "select top 10  *\r\n",
                "from openrowset(bulk 'https://pandemicdatalake.blob.core.windows.net/public/curated/covid-19/ecdc_cases/latest/ecdc_cases.parquet',\r\n",
                "                format='parquet') as a\r\n",
                ""
            ],
            "metadata": {
                "azdata_cell_guid": "7cf302bc-f123-48c3-8486-c8c97e31855c",
                "tags": []
            },
            "outputs": [
                {
                    "output_type": "display_data",
                    "data": {
                        "text/html": "Statement ID: {F696FB11-1386-48AE-843D-61F465716BE6} | Query hash: 0x2607A6E4C1BCC82C | Distributed request ID: {FD2EEAE3-D9F8-463C-9306-974DCE059397}. Total size of data scanned is 1 megabytes, total size of data moved is 1 megabytes, total size of data written is 0 megabytes."
                    },
                    "metadata": {}
                },
                {
                    "output_type": "display_data",
                    "data": {
                        "text/html": "(10 rows affected)"
                    },
                    "metadata": {}
                },
                {
                    "output_type": "display_data",
                    "data": {
                        "text/html": "Total execution time: 00:00:02.256"
                    },
                    "metadata": {}
                },
                {
                    "output_type": "execute_result",
                    "metadata": {},
                    "execution_count": 1,
                    "data": {
                        "application/vnd.dataresource+json": {
                            "schema": {
                                "fields": [
                                    {
                                        "name": "date_rep"
                                    },
                                    {
                                        "name": "day"
                                    },
                                    {
                                        "name": "month"
                                    },
                                    {
                                        "name": "year"
                                    },
                                    {
                                        "name": "cases"
                                    },
                                    {
                                        "name": "deaths"
                                    },
                                    {
                                        "name": "countries_and_territories"
                                    },
                                    {
                                        "name": "geo_id"
                                    },
                                    {
                                        "name": "country_territory_code"
                                    },
                                    {
                                        "name": "pop_data_2018"
                                    },
                                    {
                                        "name": "continent_exp"
                                    },
                                    {
                                        "name": "load_date"
                                    },
                                    {
                                        "name": "iso_country"
                                    }
                                ]
                            },
                            "data": [
                                {
                                    "0": "2020-12-14",
                                    "1": "14",
                                    "2": "12",
                                    "3": "2020",
                                    "4": "746",
                                    "5": "6",
                                    "6": "Afghanistan",
                                    "7": "AF",
                                    "8": "AFG",
                                    "9": "NULL",
                                    "10": "Asia",
                                    "11": "2022-01-11 00:06:03.8350000",
                                    "12": "AF"
                                },
                                {
                                    "0": "2020-12-13",
                                    "1": "13",
                                    "2": "12",
                                    "3": "2020",
                                    "4": "298",
                                    "5": "9",
                                    "6": "Afghanistan",
                                    "7": "AF",
                                    "8": "AFG",
                                    "9": "NULL",
                                    "10": "Asia",
                                    "11": "2022-01-11 00:06:03.8350000",
                                    "12": "AF"
                                },
                                {
                                    "0": "2020-12-12",
                                    "1": "12",
                                    "2": "12",
                                    "3": "2020",
                                    "4": "113",
                                    "5": "11",
                                    "6": "Afghanistan",
                                    "7": "AF",
                                    "8": "AFG",
                                    "9": "NULL",
                                    "10": "Asia",
                                    "11": "2022-01-11 00:06:03.8350000",
                                    "12": "AF"
                                },
                                {
                                    "0": "2020-12-11",
                                    "1": "11",
                                    "2": "12",
                                    "3": "2020",
                                    "4": "63",
                                    "5": "10",
                                    "6": "Afghanistan",
                                    "7": "AF",
                                    "8": "AFG",
                                    "9": "NULL",
                                    "10": "Asia",
                                    "11": "2022-01-11 00:06:03.8350000",
                                    "12": "AF"
                                },
                                {
                                    "0": "2020-12-10",
                                    "1": "10",
                                    "2": "12",
                                    "3": "2020",
                                    "4": "202",
                                    "5": "16",
                                    "6": "Afghanistan",
                                    "7": "AF",
                                    "8": "AFG",
                                    "9": "NULL",
                                    "10": "Asia",
                                    "11": "2022-01-11 00:06:03.8350000",
                                    "12": "AF"
                                },
                                {
                                    "0": "2020-12-09",
                                    "1": "9",
                                    "2": "12",
                                    "3": "2020",
                                    "4": "135",
                                    "5": "13",
                                    "6": "Afghanistan",
                                    "7": "AF",
                                    "8": "AFG",
                                    "9": "NULL",
                                    "10": "Asia",
                                    "11": "2022-01-11 00:06:03.8350000",
                                    "12": "AF"
                                },
                                {
                                    "0": "2020-12-08",
                                    "1": "8",
                                    "2": "12",
                                    "3": "2020",
                                    "4": "200",
                                    "5": "6",
                                    "6": "Afghanistan",
                                    "7": "AF",
                                    "8": "AFG",
                                    "9": "NULL",
                                    "10": "Asia",
                                    "11": "2022-01-11 00:06:03.8350000",
                                    "12": "AF"
                                },
                                {
                                    "0": "2020-12-07",
                                    "1": "7",
                                    "2": "12",
                                    "3": "2020",
                                    "4": "210",
                                    "5": "26",
                                    "6": "Afghanistan",
                                    "7": "AF",
                                    "8": "AFG",
                                    "9": "NULL",
                                    "10": "Asia",
                                    "11": "2022-01-11 00:06:03.8350000",
                                    "12": "AF"
                                },
                                {
                                    "0": "2020-12-06",
                                    "1": "6",
                                    "2": "12",
                                    "3": "2020",
                                    "4": "234",
                                    "5": "10",
                                    "6": "Afghanistan",
                                    "7": "AF",
                                    "8": "AFG",
                                    "9": "NULL",
                                    "10": "Asia",
                                    "11": "2022-01-11 00:06:03.8350000",
                                    "12": "AF"
                                },
                                {
                                    "0": "2020-12-05",
                                    "1": "5",
                                    "2": "12",
                                    "3": "2020",
                                    "4": "235",
                                    "5": "18",
                                    "6": "Afghanistan",
                                    "7": "AF",
                                    "8": "AFG",
                                    "9": "NULL",
                                    "10": "Asia",
                                    "11": "2022-01-11 00:06:03.8350000",
                                    "12": "AF"
                                }
                            ]
                        },
                        "text/html": [
                            "<table>",
                            "<tr><th>date_rep</th><th>day</th><th>month</th><th>year</th><th>cases</th><th>deaths</th><th>countries_and_territories</th><th>geo_id</th><th>country_territory_code</th><th>pop_data_2018</th><th>continent_exp</th><th>load_date</th><th>iso_country</th></tr>",
                            "<tr><td>2020-12-14</td><td>14</td><td>12</td><td>2020</td><td>746</td><td>6</td><td>Afghanistan</td><td>AF</td><td>AFG</td><td>NULL</td><td>Asia</td><td>2022-01-11 00:06:03.8350000</td><td>AF</td></tr>",
                            "<tr><td>2020-12-13</td><td>13</td><td>12</td><td>2020</td><td>298</td><td>9</td><td>Afghanistan</td><td>AF</td><td>AFG</td><td>NULL</td><td>Asia</td><td>2022-01-11 00:06:03.8350000</td><td>AF</td></tr>",
                            "<tr><td>2020-12-12</td><td>12</td><td>12</td><td>2020</td><td>113</td><td>11</td><td>Afghanistan</td><td>AF</td><td>AFG</td><td>NULL</td><td>Asia</td><td>2022-01-11 00:06:03.8350000</td><td>AF</td></tr>",
                            "<tr><td>2020-12-11</td><td>11</td><td>12</td><td>2020</td><td>63</td><td>10</td><td>Afghanistan</td><td>AF</td><td>AFG</td><td>NULL</td><td>Asia</td><td>2022-01-11 00:06:03.8350000</td><td>AF</td></tr>",
                            "<tr><td>2020-12-10</td><td>10</td><td>12</td><td>2020</td><td>202</td><td>16</td><td>Afghanistan</td><td>AF</td><td>AFG</td><td>NULL</td><td>Asia</td><td>2022-01-11 00:06:03.8350000</td><td>AF</td></tr>",
                            "<tr><td>2020-12-09</td><td>9</td><td>12</td><td>2020</td><td>135</td><td>13</td><td>Afghanistan</td><td>AF</td><td>AFG</td><td>NULL</td><td>Asia</td><td>2022-01-11 00:06:03.8350000</td><td>AF</td></tr>",
                            "<tr><td>2020-12-08</td><td>8</td><td>12</td><td>2020</td><td>200</td><td>6</td><td>Afghanistan</td><td>AF</td><td>AFG</td><td>NULL</td><td>Asia</td><td>2022-01-11 00:06:03.8350000</td><td>AF</td></tr>",
                            "<tr><td>2020-12-07</td><td>7</td><td>12</td><td>2020</td><td>210</td><td>26</td><td>Afghanistan</td><td>AF</td><td>AFG</td><td>NULL</td><td>Asia</td><td>2022-01-11 00:06:03.8350000</td><td>AF</td></tr>",
                            "<tr><td>2020-12-06</td><td>6</td><td>12</td><td>2020</td><td>234</td><td>10</td><td>Afghanistan</td><td>AF</td><td>AFG</td><td>NULL</td><td>Asia</td><td>2022-01-11 00:06:03.8350000</td><td>AF</td></tr>",
                            "<tr><td>2020-12-05</td><td>5</td><td>12</td><td>2020</td><td>235</td><td>18</td><td>Afghanistan</td><td>AF</td><td>AFG</td><td>NULL</td><td>Asia</td><td>2022-01-11 00:06:03.8350000</td><td>AF</td></tr>",
                            "</table>"
                        ]
                    }
                }
            ],
            "execution_count": 1
        },
        {
            "cell_type": "code",
            "source": [
                ""
            ],
            "metadata": {
                "azdata_cell_guid": "89036a6c-3e5a-4f15-bbc9-9c0f1c93e60d"
            },
            "outputs": [],
            "execution_count": null
        }
    ]
}